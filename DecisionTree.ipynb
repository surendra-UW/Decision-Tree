{
  "nbformat": 4,
  "nbformat_minor": 0,
  "metadata": {
    "colab": {
      "provenance": []
    },
    "kernelspec": {
      "name": "python3",
      "display_name": "Python 3"
    },
    "language_info": {
      "name": "python"
    }
  },
  "cells": [
    {
      "cell_type": "code",
      "execution_count": 2,
      "metadata": {
        "id": "b1xsRRNNVrOl"
      },
      "outputs": [],
      "source": [
        "import pandas as pd\n",
        "import numpy as np\n",
        "import matplotlib.pyplot as plt\n",
        "import math"
      ]
    },
    {
      "cell_type": "code",
      "source": [
        "df = pd.read_csv('titanic_data.csv')\n",
        "features  = df.iloc[:,1:].columns.values"
      ],
      "metadata": {
        "id": "br34Sc-0V2k-"
      },
      "execution_count": 57,
      "outputs": []
    },
    {
      "cell_type": "code",
      "source": [
        "split_ratio = 0.9\n",
        "num_rows = int(split_ratio*len(df))\n",
        "X_train, X_test = df.iloc[:num_rows,1:].to_numpy(), df.iloc[num_rows:,1:].to_numpy()\n",
        "Y_train, Y_test = df.iloc[:num_rows,:1].to_numpy(), df.iloc[num_rows:,:1].to_numpy()"
      ],
      "metadata": {
        "id": "ZdlpfdOsV8b1"
      },
      "execution_count": 12,
      "outputs": []
    },
    {
      "cell_type": "code",
      "source": [
        "percentiles = np.linspace(0, 100, 3 + 2)[1:-1]\n",
        "X = np.array([1,2,3,54,22,2,1,34,54,26])\n",
        "quantiles = np.percentile(X, percentiles)\n",
        "quantiles"
      ],
      "metadata": {
        "colab": {
          "base_uri": "https://localhost:8080/",
          "height": 0
        },
        "id": "1ovA6FI5LgEb",
        "outputId": "1efea4db-b6fc-4834-8f7f-b58a7ca1164b"
      },
      "execution_count": 13,
      "outputs": [
        {
          "output_type": "execute_result",
          "data": {
            "text/plain": [
              "array([ 2. , 12.5, 32. ])"
            ]
          },
          "metadata": {},
          "execution_count": 13
        }
      ]
    },
    {
      "cell_type": "code",
      "source": [
        "class DecisionTree:\n",
        "\n",
        "  def __init__(self, num_of_splits_per_feature):\n",
        "      self.num_of_splits_per_feature = num_of_splits_per_feature\n",
        "      self.num_of_samples = 0\n",
        "      self.root = None\n",
        "\n",
        "  def fit_training_data(self, X_train, Y_train):\n",
        "    self.num_of_samples = len(Y_train)\n",
        "    # self.Y_train = Y_train\n",
        "    self.root = self.build_tree(X_train, Y_train)\n",
        "\n",
        "  def build_tree(self, X_data, Y_data):\n",
        "    subsample_size = len(Y_data)\n",
        "    #verify if the sample is less than 5% of whole data\n",
        "    #if yes exit as leaf node\n",
        "    if subsample_size <= int(0.05*self.num_of_samples):\n",
        "      # print('current path ends as the sample space is less than 5% of total sample size')\n",
        "      node = TreeNode(None, None)\n",
        "      node.isLeaf = True\n",
        "      if np.sum(Y_data) >= subsample_size//2:\n",
        "        node.Y_pred = 1\n",
        "      return node\n",
        "\n",
        "    #find the feature with max mutual information\n",
        "    max_gain = 0\n",
        "    feature_column, threshold  = 0 , 0\n",
        "    for i in range(X_data.shape[1]):\n",
        "      #if the feature is continous compare quartiles\n",
        "      percentiles = np.linspace(0, 100, self.num_of_splits_per_feature + 2)[1:-1]\n",
        "      quantiles = set(np.percentile(X_data[:, i], percentiles))\n",
        "      for quantile in quantiles:\n",
        "        curr_gain = self.mutual_information(self.normalize_data(X_data[:, i], quantile), Y_data)\n",
        "        if curr_gain > max_gain:\n",
        "          feature_column, threshold, max_gain = i, quantile, curr_gain\n",
        "\n",
        "    #if the resulting gain is small we can end as leaf node\n",
        "    if max_gain <= 0.05:\n",
        "      node = TreeNode(None, None)\n",
        "      node.isLeaf = True\n",
        "      if np.sum(Y_data) >= subsample_size//2:\n",
        "        node.Y_pred = 1\n",
        "      return node\n",
        "\n",
        "    #split the data accourding to max gain feature\n",
        "    # Create a boolean mask based on the feature value\n",
        "    zipped_data = np.hstack((X_data, Y_data.reshape([-1,1])))\n",
        "    mask = X_data[:, feature_column] <= threshold\n",
        "    # Split the data into two parts\n",
        "    left_data = zipped_data[mask]\n",
        "    right_data = zipped_data[~mask]\n",
        "\n",
        "    node = TreeNode(feature_column=feature_column, threshold=threshold)\n",
        "    node.left = self.build_tree(left_data[:, :-1], left_data[:, -1])\n",
        "    node.right = self.build_tree(right_data[:, :-1], right_data[:, -1])\n",
        "    return node\n",
        "\n",
        "  def normalize_data(self, X, threshold):\n",
        "    return [1 if X[i] <= threshold else 0 for i in range(len(X))]\n",
        "\n",
        "  def mutual_information(self, X_data, Y_data):\n",
        "    subsample_size = len(Y_data)\n",
        "    p_x_1 = np.sum(X_data)/subsample_size\n",
        "    entropy_x = self.entropy_helper(p_x_1) + self.entropy_helper(1-p_x_1)\n",
        "\n",
        "    #conditional entropy\n",
        "    count_x_1_y_1, count_x_0_y_1, count_x_0_y_0, count_x_1_y_0 = 0,0,0,0\n",
        "    for i in range(subsample_size):\n",
        "      if X_data[i] == 1 and Y_data[i] == 1:\n",
        "        count_x_1_y_1 += 1\n",
        "      elif X_data[i] == 0 and Y_data[i] == 1:\n",
        "        count_x_0_y_1 += 1\n",
        "      elif  X_data[i] == 0 and Y_data[i] == 0:\n",
        "        count_x_0_y_0 == 1\n",
        "      else:\n",
        "        count_x_1_y_0 += 1\n",
        "\n",
        "    count_y_1 = np.sum(Y_data)\n",
        "    count_y_0 = len(Y_data) - count_y_1\n",
        "    entropy_x_given_y = ((count_y_1*self.entropy_helper(count_x_1_y_1/count_y_1) \\\n",
        "                      + count_y_1*self.entropy_helper(count_x_0_y_1/count_y_1)) if count_y_1 != 0 else 0 )\\\n",
        "                      + (count_y_0*self.entropy_helper(count_x_0_y_0/count_y_0) \\\n",
        "                      + count_y_0*self.entropy_helper(count_x_1_y_0/count_y_0)) if count_y_0 != 0 else 0\n",
        "\n",
        "    entropy_x_given_y /= subsample_size\n",
        "    #info gain\n",
        "    return entropy_x - entropy_x_given_y\n",
        "\n",
        "  def entropy_helper(self,prob):\n",
        "    if prob == 0:\n",
        "      return 0\n",
        "    return prob*math.log2(1/prob)"
      ],
      "metadata": {
        "id": "aZ4iO0drXAM4"
      },
      "execution_count": 55,
      "outputs": []
    },
    {
      "cell_type": "code",
      "source": [
        "class TreeNode:\n",
        "\n",
        "  def __init__(self, feature_column, threshold):\n",
        "    self.feature_column = feature_column\n",
        "    self.threshold = threshold\n",
        "    self.left = None\n",
        "    self.right = None\n",
        "    self.isLeaf = False\n",
        "    self.Y_pred = 0\n"
      ],
      "metadata": {
        "id": "Y4k76yiOnwOQ"
      },
      "execution_count": 15,
      "outputs": []
    },
    {
      "cell_type": "code",
      "source": [
        "decisionTree = DecisionTree(3)\n",
        "decisionTree.fit_training_data(X_train, Y_train)"
      ],
      "metadata": {
        "colab": {
          "base_uri": "https://localhost:8080/",
          "height": 0
        },
        "id": "DDrEfclnn3T4",
        "outputId": "8623addd-fb11-49b9-a5a7-68ead025f84f"
      },
      "execution_count": 13,
      "outputs": [
        {
          "output_type": "stream",
          "name": "stdout",
          "text": [
            "current path ends as the sample space is less than 5% of total sample size\n",
            "current path ends as the sample space is less than 5% of total sample size\n",
            "current path ends as the sample space is less than 5% of total sample size\n",
            "current path ends as the sample space is less than 5% of total sample size\n",
            "current path ends as the sample space is less than 5% of total sample size\n",
            "current path ends as the sample space is less than 5% of total sample size\n",
            "current path ends as the sample space is less than 5% of total sample size\n",
            "current path ends as the sample space is less than 5% of total sample size\n",
            "current path ends as the sample space is less than 5% of total sample size\n",
            "current path ends as the sample space is less than 5% of total sample size\n",
            "current path ends as the sample space is less than 5% of total sample size\n",
            "current path ends as the sample space is less than 5% of total sample size\n",
            "current path ends as the sample space is less than 5% of total sample size\n",
            "current path ends as the sample space is less than 5% of total sample size\n",
            "current path ends as the sample space is less than 5% of total sample size\n",
            "current path ends as the sample space is less than 5% of total sample size\n",
            "current path ends as the sample space is less than 5% of total sample size\n",
            "current path ends as the sample space is less than 5% of total sample size\n",
            "current path ends as the sample space is less than 5% of total sample size\n",
            "current path ends as the sample space is less than 5% of total sample size\n",
            "current path ends as the sample space is less than 5% of total sample size\n",
            "current path ends as the sample space is less than 5% of total sample size\n",
            "current path ends as the sample space is less than 5% of total sample size\n",
            "current path ends as the sample space is less than 5% of total sample size\n"
          ]
        }
      ]
    },
    {
      "cell_type": "code",
      "source": [
        "import graphviz as gv\n",
        "\n",
        "# Define a graph object\n",
        "class VisualizeGraph:\n",
        "  def __init__(self, root, features):\n",
        "    self.node_index = 1\n",
        "    self.graph = gv.Digraph()\n",
        "    self.graph.node(str(self.node_index), features[root.feature_column])\n",
        "    self.node_index += 1\n",
        "    self.features = features\n",
        "    self.build_graph(root, 1)\n",
        "\n",
        "\n",
        "# Add nodes\n",
        "  def build_graph(self,node, parent_index):\n",
        "    #left node\n",
        "    if node.left.isLeaf:\n",
        "      value = 'survived' if node.left.Y_pred == 1 else 'deceased'\n",
        "      self.graph.node(str(self.node_index), value)\n",
        "      self.graph.edge(str(parent_index), str(self.node_index), label=f'<={node.threshold}')\n",
        "      self.node_index += 1\n",
        "    else:\n",
        "      self.graph.node(str(self.node_index), label = self.features[node.left.feature_column])\n",
        "      self.graph.edge( str(parent_index), str(self.node_index), label=f'<={node.threshold}')\n",
        "      self.node_index += 1\n",
        "      self.build_graph(node.left, self.node_index-1)\n",
        "\n",
        "\n",
        "    #right node\n",
        "    if node.right.isLeaf:\n",
        "      value = 'survived' if node.right.Y_pred == 1 else 'deceased'\n",
        "      self.graph.node(str(self.node_index), value)\n",
        "      self.graph.edge(str(parent_index), str(self.node_index), label=f'>{node.threshold}')\n",
        "      self.node_index += 1\n",
        "    else:\n",
        "      self.graph.node(str(self.node_index), label = self.features[node.right.feature_column])\n",
        "      self.graph.edge(str(parent_index), str(self.node_index), label=f'>{node.threshold}')\n",
        "      self.node_index += 1\n",
        "      self.build_graph(node.right, self.node_index-1)\n"
      ],
      "metadata": {
        "id": "LtlZQBnH2vHS"
      },
      "execution_count": 16,
      "outputs": []
    },
    {
      "cell_type": "code",
      "source": [
        "vg_graph = VisualizeGraph(decisionTree.root, features)\n",
        "vg_graph.graph.render(\"graph.png\")"
      ],
      "metadata": {
        "colab": {
          "base_uri": "https://localhost:8080/",
          "height": 35
        },
        "id": "mZoLF2U7774i",
        "outputId": "f42fe055-b6fe-4268-dcb2-5c101ab0f4e5"
      },
      "execution_count": 15,
      "outputs": [
        {
          "output_type": "execute_result",
          "data": {
            "text/plain": [
              "'graph.png.pdf'"
            ],
            "application/vnd.google.colaboratory.intrinsic+json": {
              "type": "string"
            }
          },
          "metadata": {},
          "execution_count": 15
        }
      ]
    },
    {
      "cell_type": "code",
      "source": [
        "def test(decisionTree, X_test, Y_test):\n",
        "  correct_pred = 0\n",
        "  for i in range(len(Y_test)):\n",
        "    node = decisionTree.root\n",
        "    while not node.isLeaf:\n",
        "      if X_test[i, node.feature_column] <= node.threshold:\n",
        "        node = node.left\n",
        "      else:\n",
        "        node = node.right\n",
        "\n",
        "    if node.Y_pred == Y_test[i]:\n",
        "      correct_pred += 1\n",
        "\n",
        "  #accuracy\n",
        "  return correct_pred/len(Y_test)\n"
      ],
      "metadata": {
        "id": "HKW-7nyRWixY"
      },
      "execution_count": 48,
      "outputs": []
    },
    {
      "cell_type": "code",
      "source": [
        "X_test[1,2] <= 2"
      ],
      "metadata": {
        "colab": {
          "base_uri": "https://localhost:8080/",
          "height": 0
        },
        "id": "PqxOY8f8akNM",
        "outputId": "418145b2-8938-4c33-972c-340d394aacea"
      },
      "execution_count": 32,
      "outputs": [
        {
          "output_type": "execute_result",
          "data": {
            "text/plain": [
              "False"
            ]
          },
          "metadata": {},
          "execution_count": 32
        }
      ]
    },
    {
      "cell_type": "code",
      "source": [
        "#section 4.5\n",
        "#10 fold cross validation for decision tree\n",
        "folds = 10\n",
        "validation_ratio = folds/100\n",
        "num_samples = len(df)\n",
        "test_block_size = int(num_samples*validation_ratio)\n",
        "\n",
        "accuracy = np.zeros(folds)\n",
        "#for each fold find the accuracy\n",
        "for i in range(folds):\n",
        "  mask = df.index.isin(range(i*test_block_size, (i+1)*test_block_size))\n",
        "  train_data, test_data = df.iloc[~mask, :].to_numpy(), df.iloc[mask, :].to_numpy()\n",
        "  X_train, Y_train = train_data[:, 1:], train_data[:, :1]\n",
        "  X_test, Y_test = test_data[:, 1:], test_data[:, :1]\n",
        "\n",
        "  #build decision tree\n",
        "  tree = DecisionTree(3)\n",
        "  tree.fit_training_data(X_train, Y_train)\n",
        "\n",
        "  #predict and find accuracy\n",
        "  accuracy[i] = test(tree, X_test, Y_test)\n",
        "\n",
        "mean_accuracy = np.mean(accuracy)\n",
        "print(mean_accuracy)"
      ],
      "metadata": {
        "colab": {
          "base_uri": "https://localhost:8080/",
          "height": 0
        },
        "id": "SYgUH7lyEg-f",
        "outputId": "8166da27-b83f-436f-ed9e-f63eea82fe1b"
      },
      "execution_count": 56,
      "outputs": [
        {
          "output_type": "stream",
          "name": "stdout",
          "text": [
            "0.7954545454545455\n"
          ]
        }
      ]
    },
    {
      "cell_type": "code",
      "source": [
        "X_new = np.array([2,\n",
        "    0,\n",
        "    25,\n",
        "    0,\n",
        "    0,\n",
        "    20]).reshape([6,1])\n",
        "node = decisionTree.root\n",
        "while not node.isLeaf:\n",
        "  if X_new[node.feature_column] <= node.threshold:\n",
        "    node = node.left\n",
        "  else:\n",
        "    node = node.right\n",
        "print(node.Y_pred)"
      ],
      "metadata": {
        "colab": {
          "base_uri": "https://localhost:8080/",
          "height": 0
        },
        "id": "x-7nUMU9y67U",
        "outputId": "1a60c46e-8e61-4fcb-f764-bb5a74b1e833"
      },
      "execution_count": 65,
      "outputs": [
        {
          "output_type": "stream",
          "name": "stdout",
          "text": [
            "0\n"
          ]
        }
      ]
    },
    {
      "cell_type": "code",
      "source": [],
      "metadata": {
        "colab": {
          "base_uri": "https://localhost:8080/",
          "height": 0
        },
        "id": "dK_vmLer5gED",
        "outputId": "abd63778-e662-43ca-8959-9afa61ae38b0"
      },
      "execution_count": 66,
      "outputs": [
        {
          "output_type": "execute_result",
          "data": {
            "text/plain": [
              "array([[ 2],\n",
              "       [ 0],\n",
              "       [25],\n",
              "       [ 0],\n",
              "       [ 0],\n",
              "       [20]])"
            ]
          },
          "metadata": {},
          "execution_count": 66
        }
      ]
    },
    {
      "cell_type": "code",
      "source": [
        "#section 4.7 a\n",
        "#random forest\n",
        "def random_forest(df):\n",
        "\n",
        "  descision_trees = []\n",
        "  for i in range(5):\n",
        "    #random sampling 80% of dataset\n",
        "    df1 = df.sample(frac=0.8)\n",
        "    X_rf_1,Y_rf_1 = df1.iloc[:,1:].to_numpy(), df1.iloc[:,0].to_numpy()\n",
        "\n",
        "    #build decision tree\n",
        "    decisionTree = DecisionTree(3)\n",
        "    decisionTree.fit_training_data(X_rf_1, Y_rf_1)\n",
        "\n",
        "    descision_trees.append(decisionTree)\n",
        "    #save the decision tree as image\n",
        "    # vg_graph = VisualizeGraph(decisionTree.root, features)\n",
        "    # vg_graph.graph.render(f\"graph_rf{i+1}.png\")\n",
        "  return descision_trees\n",
        "\n",
        "random_forest(df)"
      ],
      "metadata": {
        "colab": {
          "base_uri": "https://localhost:8080/",
          "height": 0
        },
        "id": "Twj4auQvBxs_",
        "outputId": "1c4701e9-9417-4615-cce3-9e2c13321fe5"
      },
      "execution_count": 63,
      "outputs": [
        {
          "output_type": "execute_result",
          "data": {
            "text/plain": [
              "[<__main__.DecisionTree at 0x7f7cdd28c430>,\n",
              " <__main__.DecisionTree at 0x7f7d0ff90700>,\n",
              " <__main__.DecisionTree at 0x7f7cdd28fdc0>,\n",
              " <__main__.DecisionTree at 0x7f7cdd28fcd0>,\n",
              " <__main__.DecisionTree at 0x7f7cdd28e980>]"
            ]
          },
          "metadata": {},
          "execution_count": 63
        }
      ]
    },
    {
      "cell_type": "code",
      "source": [
        "#section 4.7 b\n",
        "#10 fold cross validation for decision tree\n",
        "\n",
        "def predict(decisionTree, X_test):\n",
        "  y_pred = []\n",
        "  for i in range(X_test.shape[0]):\n",
        "    node = decisionTree.root\n",
        "    while not node.isLeaf:\n",
        "      if X_test[i, node.feature_column] <= node.threshold:\n",
        "        node = node.left\n",
        "      else:\n",
        "        node = node.right\n",
        "\n",
        "    y_pred.append(node.Y_pred)\n",
        "\n",
        "  #apredictions\n",
        "  return np.array(y_pred)\n",
        "\n",
        "folds = 10\n",
        "validation_ratio = folds/100\n",
        "num_samples = len(df)\n",
        "test_block_size = int(num_samples*validation_ratio)\n",
        "\n",
        "accuracy = np.zeros(folds)\n",
        "#for each fold find the accuracy\n",
        "for i in range(folds):\n",
        "  mask = df.index.isin(range(i*test_block_size, (i+1)*test_block_size))\n",
        "  train_data, test_data = df.iloc[~mask, :].to_numpy(), df.iloc[mask, :].to_numpy()\n",
        "  X_train, Y_train = train_data[:, 1:], train_data[:, :1]\n",
        "  X_test, Y_test = test_data[:, 1:], test_data[:, :1]\n",
        "\n",
        "  #build random forests\n",
        "  trees = random_forest(df.iloc[~mask, :])\n",
        "  y_pred = np.zeros(test_block_size)\n",
        "\n",
        "  for tree in trees:\n",
        "    y_pred += predict(tree, X_test)\n",
        "\n",
        "  pred_threshold = (1+len(trees))//2\n",
        "\n",
        "  y_pred_cummulative = [1 if y_pred[i] >= pred_threshold else 0 for i in range(test_block_size)]\n",
        "  #find accuracy\n",
        "  correct_predictions = 0\n",
        "  for j in range(test_block_size):\n",
        "    if y_pred_cummulative[j] == Y_test[j]:\n",
        "      correct_predictions += 1\n",
        "  accuracy[i] = correct_predictions/test_block_size\n",
        "\n",
        "mean_accuracy = np.mean(accuracy)\n",
        "print(mean_accuracy)"
      ],
      "metadata": {
        "colab": {
          "base_uri": "https://localhost:8080/",
          "height": 0
        },
        "id": "ytxGb49_B1J3",
        "outputId": "dc570abd-8e83-4389-a20f-42b038bd0780"
      },
      "execution_count": 64,
      "outputs": [
        {
          "output_type": "stream",
          "name": "stdout",
          "text": [
            "0.7909090909090909\n"
          ]
        }
      ]
    },
    {
      "cell_type": "code",
      "source": [
        "#section 4.7 c\n",
        "for tree in trees:\n",
        "  print(predict(tree, X_new.reshape([1,-1])))\n",
        ""
      ],
      "metadata": {
        "colab": {
          "base_uri": "https://localhost:8080/",
          "height": 0
        },
        "id": "zdON4Jxzfgzz",
        "outputId": "8da2db9e-513b-47a1-8012-78088d72326d"
      },
      "execution_count": 69,
      "outputs": [
        {
          "output_type": "stream",
          "name": "stdout",
          "text": [
            "[0]\n",
            "[0]\n",
            "[0]\n",
            "[0]\n",
            "[0]\n"
          ]
        }
      ]
    },
    {
      "cell_type": "code",
      "source": [
        "#section 4.8 a\n",
        "#random forest with excluding feature\n",
        "def random_forest_with_leave_out(df):\n",
        "\n",
        "  descision_trees = []\n",
        "  for i in range(6):\n",
        "    #dropping feature using feature map which containes features to index map\n",
        "    df1 = df.drop(columns=features[i])\n",
        "    feature_map = np.delete(features, i)\n",
        "    X_rf_1,Y_rf_1 = df1.iloc[:,1:].to_numpy(), df1.iloc[:,0].to_numpy()\n",
        "\n",
        "    #build decision tree\n",
        "    decisionTree = DecisionTree(3)\n",
        "    decisionTree.fit_training_data(X_rf_1, Y_rf_1)\n",
        "\n",
        "    descision_trees.append(decisionTree)\n",
        "    #save the decision tree as image\n",
        "    # vg_graph = VisualizeGraph(decisionTree.root, feature_map)\n",
        "    # vg_graph.graph.render(f\"graph_rf_leave_out{i+1}.png\")\n",
        "  return descision_trees\n",
        "\n",
        "random_forest_with_leave_out(df)"
      ],
      "metadata": {
        "id": "5sA90yMc4Ewz"
      },
      "execution_count": 80,
      "outputs": []
    },
    {
      "cell_type": "code",
      "source": [
        "#section 4.8 b\n",
        "\n",
        "folds = 10\n",
        "validation_ratio = folds/100\n",
        "num_samples = len(df)\n",
        "test_block_size = int(num_samples*validation_ratio)\n",
        "\n",
        "accuracy = np.zeros(folds)\n",
        "#for each fold find the accuracy\n",
        "for i in range(folds):\n",
        "  mask = df.index.isin(range(i*test_block_size, (i+1)*test_block_size))\n",
        "  train_data, test_data = df.iloc[~mask, :].to_numpy(), df.iloc[mask, :].to_numpy()\n",
        "  X_train, Y_train = train_data[:, 1:], train_data[:, :1]\n",
        "  X_test, Y_test = test_data[:, 1:], test_data[:, :1]\n",
        "\n",
        "  #build random forests\n",
        "  trees = random_forest_with_leave_out(df.iloc[~mask, :])\n",
        "  y_pred = np.zeros(test_block_size)\n",
        "\n",
        "  for index,tree in enumerate(trees):\n",
        "    #delete the column with index\n",
        "    X_data_sliced = np.delete(X_test, index, axis=1)\n",
        "    y_pred += predict(tree, X_data_sliced)\n",
        "\n",
        "  pred_threshold = (1+len(trees))//2\n",
        "\n",
        "  y_pred_cummulative = [1 if y_pred[i] >= pred_threshold else 0 for i in range(test_block_size)]\n",
        "  #find accuracy\n",
        "  correct_predictions = 0\n",
        "  for j in range(test_block_size):\n",
        "    if y_pred_cummulative[j] == Y_test[j]:\n",
        "      correct_predictions += 1\n",
        "  accuracy[i] = correct_predictions/test_block_size\n",
        "\n",
        "mean_accuracy = np.mean(accuracy)\n",
        "print(mean_accuracy)"
      ],
      "metadata": {
        "colab": {
          "base_uri": "https://localhost:8080/",
          "height": 0
        },
        "id": "gK4bqCt-_teE",
        "outputId": "0f9d61cc-e7cb-46f4-a283-1293c27908b4"
      },
      "execution_count": 84,
      "outputs": [
        {
          "output_type": "stream",
          "name": "stdout",
          "text": [
            "0.8\n"
          ]
        }
      ]
    },
    {
      "cell_type": "code",
      "source": [
        "#section 4.8 c\n",
        "for tree in trees:\n",
        "  print(predict(tree, X_new.reshape([1,-1])))"
      ],
      "metadata": {
        "colab": {
          "base_uri": "https://localhost:8080/",
          "height": 0
        },
        "id": "h6FQfFuLAjwP",
        "outputId": "c7b48dc2-9e7b-4843-c5f1-c2cb740ff211"
      },
      "execution_count": 87,
      "outputs": [
        {
          "output_type": "stream",
          "name": "stdout",
          "text": [
            "[1]\n",
            "[0]\n",
            "[0]\n",
            "[0]\n",
            "[0]\n",
            "[0]\n"
          ]
        }
      ]
    },
    {
      "cell_type": "code",
      "source": [],
      "metadata": {
        "id": "0zDjPNn-D7U0"
      },
      "execution_count": null,
      "outputs": []
    }
  ]
}